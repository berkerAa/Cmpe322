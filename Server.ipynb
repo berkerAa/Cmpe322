{
 "cells": [
  {
   "cell_type": "code",
   "execution_count": 3,
   "id": "portuguese-repository",
   "metadata": {},
   "outputs": [],
   "source": [
    "import socket, os, subprocess, json, ssl, threading, logging, time, selectors\n",
    "class Server:\n",
    "    def __init__(self):\n",
    "        self.selector =  selectors.DefaultSelector()\n",
    "        self.databaseHolder = self.read()\n",
    "        self.databaseWriter = lambda x : self.write(x)\n",
    "        self.executeBash = lambda x: subprocess.Popen(x, shell=True, stdout=subprocess.PIPE, stderr=subprocess.STDOUT).communicate()[0]\n",
    "        self.encoder = lambda x: x.encode()\n",
    "        self.decoder = lambda x: x.decode()\n",
    "        self.readMessage = lambda x: self.decoder(x.recv()) # x represents socket\n",
    "        self.writeMessage = lambda x, y: x.sendall(self.encoder(y)) # x represents socket, y represents raw message\n",
    "        #self.NoneGUIOperator = lambda x: self.writeMessage(x, input()) # Terminal Operatior for None GUI use case\n",
    "        self.lock = lambda : threading.Lock()\n",
    "        self.context = self.initContext()\n",
    "        self.clients = {}\n",
    "        self.wakeServer()\n",
    "    def initContext(self) -> ssl.SSLContext:\n",
    "        context = ssl.SSLContext(ssl.PROTOCOL_TLS_SERVER)\n",
    "        context.load_cert_chain('Cert/domain.crt', 'Cert/domain.key')\n",
    "        return context\n",
    "    def wakeServer(self):\n",
    "        client = 0\n",
    "        try:\n",
    "            with socket.socket(socket.AF_INET, socket.SOCK_STREAM, 0) as sock:\n",
    "                sock.bind(('192.168.1.102', 15000)) # needed to be configured for spesific host machine, can be automized wit using executeBash command\n",
    "                sock.listen()\n",
    "                ssock = self.context.wrap_socket(sock, server_side=True)\n",
    "                while True:\n",
    "                    print(client)\n",
    "                    self.clients[client] = [0, 0]\n",
    "                    #self.clients[client][1] = ssock\n",
    "                    self.clients[client][0], addr = ssock.accept()\n",
    "                    print('connection from: ', addr)\n",
    "                    #self.clients[client] = (conn, ssock)\n",
    "                    threading.Thread(target=self.clientHandler, args=(self.clients[client][0], client)).start()\n",
    "                    print('Proceed')\n",
    "                    client += 1\n",
    "                    print(client)\n",
    "        except Exception as e:\n",
    "            print(e)\n",
    "    \n",
    "    def is_socket_closed(self, sock: socket.socket) -> bool:\n",
    "        try:\n",
    "            # this will try to read bytes without blocking and also without removing them from buffer (peek only)\n",
    "            data = sock.recv(16, socket.MSG_DONTWAIT | socket.MSG_PEEK)\n",
    "            if len(data) == 0:\n",
    "                return True\n",
    "        except BlockingIOError:\n",
    "            return False  # socket is open and reading from it would block\n",
    "        except ConnectionResetError:\n",
    "            return True  # socket was closed for some other reason\n",
    "        except Exception as e:\n",
    "            print(\"unexpected exception when checking if a socket is closed\")\n",
    "            print(e)\n",
    "            return False\n",
    "        return False\n",
    "    def loginNonGUI(self, conn, connID):\n",
    "        #self.writeMessage(conn, 'Please enter your School ID: ')\n",
    "        schoolID = self.readMessage(conn)\n",
    "        #self.writeMessage(conn, 'please enter your password')\n",
    "        password = self.readMessage(conn)\n",
    "        if schoolID in self.databaseHolder.keys():\n",
    "            if password == self.databaseHolder[schoolID]['Password']:\n",
    "                self.databaseHolder[schoolID]['Online'] = True\n",
    "                self.clients[schoolID] = self.clients.pop(connID)\n",
    "                self.writeMessage(conn, 'Server,True\"')\n",
    "                return 1, schoolID\n",
    "            \n",
    "        return 0, schoolID\n",
    "    def signUp(self, conn):\n",
    "        #self.writeMessage(conn, 'Please enter your School ID: ')\n",
    "        mail = self.readMessage(conn)\n",
    "        self.databaseHolder[mail] = {}\n",
    "        for key in ('Name', 'Surname', 'Mail Address', 'Password'):\n",
    "            self.writeMessage(conn, 'Please enter your {}: '.format(key))\n",
    "            self.databaseHolder[mail][key] = self.readMessage(conn)\n",
    "        self.databaseHolder[mail]['Online'] = False\n",
    "        self.write(self.databaseHolder)\n",
    "    def clientHandler(self, conn: socket.socket, client: int):\n",
    "        recThread, writeThread = 1, 1\n",
    "        #self.writeMessage(conn, 'Hello, please enter login if you have an account, otherwise, type sign up')\n",
    "        print('proceed')\n",
    "        msg = self.readMessage(conn)\n",
    "        print('Someone Connected')\n",
    "        if msg.lower() == 'sign up':\n",
    "            self.signUp(conn)\n",
    "           # self.writeMessage(conn, 'forwarding to Login phase')\n",
    "        loginCheck, ID = self.loginNonGUI(conn, client)\n",
    "        if loginCheck:\n",
    "            #self.writeMessage(conn, 'enter student number of person whom message will be directed, write with comma seperation for mutliple forwarding, ex. 117200033,114200045,117600023: ')\n",
    "            directions = self.readMessage(conn).split(',')\n",
    "            for direction in directions:\n",
    "                on = 1\n",
    "                while not (self.is_socket_closed(conn)):\n",
    "                    print(self.databaseHolder[direction]['Online'] == False)\n",
    "                    if  self.databaseHolder[direction]['Online']:\n",
    "                        on = 1\n",
    "                        if not self.is_socket_closed(self.clients[direction][0]):\n",
    "                            # self.writeMessage(conn, '')\n",
    "                            msg = self.readMessage(conn)\n",
    "                            msg = ID + ': ' + msg\n",
    "                            \n",
    "                            self.writeMessage(self.clients[direction][0], msg)\n",
    "                        else:\n",
    "                            self.clients[direction][0].close()\n",
    "                    else:\n",
    "                         if on:\n",
    "                                self.writeMessage(conn, 'Student you want to message is currently offline, please try again later, currently active students are: {}'.format(', '.join([_id for _id in self.databaseHolder.keys() if self.databaseHolder[_id]['Online']])))\n",
    "                                self.writeMessage(conn, 'enter student number of person whom message will be directed: ')\n",
    "                                direction = self.readMessage(conn)\n",
    "                self.clients[ID][0].close()\n",
    "                self.databaseHolder[ID]['Online'] = False\n",
    "        else:\n",
    "            self.writeMessage(conn, 'Creds are wrong: ')\n",
    "            self.clientHandler(self.clients[client][0], client)\n",
    "    def read(self):\n",
    "        with open('Database/loginCreds.json', 'r') as f: \n",
    "            return json.load(f)\n",
    "    def write(self, data):\n",
    "        try: \n",
    "            with open('Database/loginCreds.json', 'w') as f:\n",
    "                json.dump(data, f)\n",
    "                return 1\n",
    "        except Exception as e:\n",
    "            print(e)\n",
    "            return 0\n",
    "\n",
    "        \n",
    "        "
   ]
  },
  {
   "cell_type": "code",
   "execution_count": null,
   "id": "executed-bacon",
   "metadata": {},
   "outputs": [
    {
     "name": "stdout",
     "output_type": "stream",
     "text": [
      "0\n",
      "connection from:  ('192.168.1.102', 59336)\n",
      "proceed\n",
      "Someone ConnectedProceed\n",
      "\n",
      "1\n",
      "1\n"
     ]
    },
    {
     "name": "stderr",
     "output_type": "stream",
     "text": [
      "Exception in thread Thread-4:\n",
      "Traceback (most recent call last):\n",
      "  File \"/usr/lib/python3.8/threading.py\", line 932, in _bootstrap_inner\n",
      "    self.run()\n",
      "  File \"/usr/lib/python3.8/threading.py\", line 870, in run\n",
      "    self._target(*self._args, **self._kwargs)\n",
      "  File \"<ipython-input-3-8a2970bcfc2f>\", line 95, in clientHandler\n",
      "KeyError: ''\n"
     ]
    },
    {
     "name": "stdout",
     "output_type": "stream",
     "text": [
      "unexpected exception when checking if a socket is closed\n",
      "non-zero flags not allowed in calls to recv() on <class 'ssl.SSLSocket'>\n",
      "connection from:  ('192.168.1.102', 59350)\n",
      "proceed\n",
      "Proceed\n",
      "2\n",
      "2\n",
      "Someone Connected\n",
      "connection from:  ('192.168.1.102', 59354)\n",
      "proceed\n",
      "Someone Connected\n",
      "Proceed\n",
      "3\n",
      "3\n"
     ]
    },
    {
     "name": "stderr",
     "output_type": "stream",
     "text": [
      "Exception in thread Thread-6:\n",
      "Traceback (most recent call last):\n",
      "  File \"/usr/lib/python3.8/threading.py\", line 932, in _bootstrap_inner\n",
      "Exception in thread Thread-5:\n",
      "Traceback (most recent call last):\n",
      "  File \"/usr/lib/python3.8/threading.py\", line 932, in _bootstrap_inner\n",
      "    self.run()\n",
      "  File \"/usr/lib/python3.8/threading.py\", line 870, in run\n",
      "    self.run()\n",
      "  File \"/usr/lib/python3.8/threading.py\", line 870, in run\n",
      "        self._target(*self._args, **self._kwargs)self._target(*self._args, **self._kwargs)\n",
      "  File \"<ipython-input-3-8a2970bcfc2f>\", line 95, in clientHandler\n",
      "\n",
      "  File \"<ipython-input-3-8a2970bcfc2f>\", line 95, in clientHandler\n",
      "KeyErrorKeyError: ''\n",
      ": ''\n"
     ]
    },
    {
     "name": "stdout",
     "output_type": "stream",
     "text": [
      "unexpected exception when checking if a socket is closed\n",
      "non-zero flags not allowed in calls to recv() on <class 'ssl.SSLSocket'>\n",
      "unexpected exception when checking if a socket is closed\n",
      "non-zero flags not allowed in calls to recv() on <class 'ssl.SSLSocket'>\n"
     ]
    }
   ],
   "source": [
    "Server()"
   ]
  },
  {
   "cell_type": "code",
   "execution_count": 1,
   "id": "authorized-teens",
   "metadata": {},
   "outputs": [
    {
     "ename": "TypeError",
     "evalue": "unsupported operand type(s) for -: 'str' and 'str'",
     "output_type": "error",
     "traceback": [
      "\u001b[0;31m---------------------------------------------------------------------------\u001b[0m",
      "\u001b[0;31mTypeError\u001b[0m                                 Traceback (most recent call last)",
      "\u001b[0;32m<ipython-input-1-372a5d9c4a19>\u001b[0m in \u001b[0;36m<module>\u001b[0;34m\u001b[0m\n\u001b[0;32m----> 1\u001b[0;31m \u001b[0;34m'aa'\u001b[0m \u001b[0;34m-\u001b[0m \u001b[0;34m'a'\u001b[0m\u001b[0;34m\u001b[0m\u001b[0;34m\u001b[0m\u001b[0m\n\u001b[0m",
      "\u001b[0;31mTypeError\u001b[0m: unsupported operand type(s) for -: 'str' and 'str'"
     ]
    }
   ],
   "source": [
    "'aa' - 'a'"
   ]
  },
  {
   "cell_type": "code",
   "execution_count": 5,
   "id": "0f3c2bf1-1c2f-40a5-b773-ba43d15e3385",
   "metadata": {},
   "outputs": [
    {
     "data": {
      "text/plain": [
       "'asdasfdasdgsdas,sd'"
      ]
     },
     "execution_count": 5,
     "metadata": {},
     "output_type": "execute_result"
    }
   ],
   "source": [
    "','.join('aa,asdasfdasdgsdas,sd'.split(',')[1:])"
   ]
  },
  {
   "cell_type": "code",
   "execution_count": null,
   "id": "d1037b2b-dc85-4f27-89d1-d33f3de939af",
   "metadata": {},
   "outputs": [],
   "source": []
  }
 ],
 "metadata": {
  "kernelspec": {
   "display_name": "Python 3",
   "language": "python",
   "name": "python3"
  },
  "language_info": {
   "codemirror_mode": {
    "name": "ipython",
    "version": 3
   },
   "file_extension": ".py",
   "mimetype": "text/x-python",
   "name": "python",
   "nbconvert_exporter": "python",
   "pygments_lexer": "ipython3",
   "version": "3.8.5"
  }
 },
 "nbformat": 4,
 "nbformat_minor": 5
}
