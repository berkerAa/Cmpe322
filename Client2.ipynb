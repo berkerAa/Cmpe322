{
 "cells": [
  {
   "cell_type": "code",
   "execution_count": null,
   "id": "fifteen-appendix",
   "metadata": {},
   "outputs": [
    {
     "name": "stdout",
     "output_type": "stream",
     "text": [
      "Hello, please enter login if you have an account, otherwise, type sign up\n"
     ]
    },
    {
     "name": "stdin",
     "output_type": "stream",
     "text": [
      " login\n"
     ]
    },
    {
     "name": "stdout",
     "output_type": "stream",
     "text": [
      "Please enter your School ID: \n"
     ]
    },
    {
     "name": "stdin",
     "output_type": "stream",
     "text": [
      " 117200033\n"
     ]
    },
    {
     "name": "stdout",
     "output_type": "stream",
     "text": [
      "please enter your password\n"
     ]
    },
    {
     "name": "stdin",
     "output_type": "stream",
     "text": [
      " 1234\n"
     ]
    },
    {
     "name": "stdout",
     "output_type": "stream",
     "text": [
      "enter student number of person whom message will be directed, write with comma seperation for mutliple forwarding, ex. 117200033,114200045,117600023: \n"
     ]
    },
    {
     "name": "stdin",
     "output_type": "stream",
     "text": [
      " 115200033\n",
      " hi\n"
     ]
    },
    {
     "name": "stdout",
     "output_type": "stream",
     "text": [
      "115200033: hi\n"
     ]
    },
    {
     "name": "stdin",
     "output_type": "stream",
     "text": [
      " how r you\n"
     ]
    },
    {
     "name": "stdout",
     "output_type": "stream",
     "text": [
      "114200033: hello\n"
     ]
    }
   ],
   "source": [
    "import socket, ssl, threading\n",
    "HOST = '192.168.1.102'  # The server's hostname or IP address\n",
    "PORT = 65320        # The port used by the ISP\n",
    "PORT = 15000\n",
    "context = ssl.SSLContext(ssl.PROTOCOL_TLS_CLIENT)\n",
    "context.load_verify_locations('Cert/domain.crt')\n",
    "msg = ''\n",
    "def stdOUT(s):\n",
    "    global msg\n",
    "    while True:\n",
    "        msg = s.recv().decode()\n",
    "        print(msg)\n",
    "with socket.create_connection((HOST, PORT)) as sock:\n",
    "    with context.wrap_socket(sock, server_hostname='Cmpe322') as ssock:\n",
    "        threading.Thread(target=stdOUT, args=(ssock, )).start()\n",
    "        while True:\n",
    "            if msg != '':\n",
    "                ssock.send(input().encode())"
   ]
  },
  {
   "cell_type": "code",
   "execution_count": 18,
   "id": "protecting-carroll",
   "metadata": {},
   "outputs": [
    {
     "name": "stdout",
     "output_type": "stream",
     "text": [
      "Help on function wrap_socket in module ssl:\n",
      "\n",
      "wrap_socket(self, sock, server_side=False, do_handshake_on_connect=True, suppress_ragged_eofs=True, server_hostname=None, session=None)\n",
      "\n"
     ]
    }
   ],
   "source": [
    "help(ssl.SSLContext.wrap_socket)"
   ]
  },
  {
   "cell_type": "code",
   "execution_count": null,
   "id": "sophisticated-nightmare",
   "metadata": {},
   "outputs": [],
   "source": []
  }
 ],
 "metadata": {
  "kernelspec": {
   "display_name": "Python 3",
   "language": "python",
   "name": "python3"
  },
  "language_info": {
   "codemirror_mode": {
    "name": "ipython",
    "version": 3
   },
   "file_extension": ".py",
   "mimetype": "text/x-python",
   "name": "python",
   "nbconvert_exporter": "python",
   "pygments_lexer": "ipython3",
   "version": "3.8.5"
  }
 },
 "nbformat": 4,
 "nbformat_minor": 5
}
